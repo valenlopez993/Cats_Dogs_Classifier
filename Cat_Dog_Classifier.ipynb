{
  "cells": [
    {
      "cell_type": "markdown",
      "metadata": {
        "colab_type": "text",
        "id": "view-in-github"
      },
      "source": [
        "<a href=\"https://colab.research.google.com/github/valenlopez993/Cats_Dogs_Classifier/blob/main/Cat_Dog_Classifier.ipynb\" target=\"_parent\"><img src=\"https://colab.research.google.com/assets/colab-badge.svg\" alt=\"Open In Colab\"/></a>"
      ]
    },
    {
      "attachments": {},
      "cell_type": "markdown",
      "metadata": {
        "id": "p-ul6Z1QMrF1"
      },
      "source": [
        "# Importing Keras and libraries"
      ]
    },
    {
      "cell_type": "code",
      "execution_count": 3,
      "metadata": {
        "id": "la_Oz6oLlub6"
      },
      "outputs": [],
      "source": [
        "import tensorflow as tf\n",
        "\n",
        "from tensorflow.keras.models import Sequential\n",
        "from tensorflow.keras.layers import Dense, Conv2D, Flatten, Dropout, MaxPool2D\n",
        "from tensorflow.keras.preprocessing.image import ImageDataGenerator\n",
        "\n",
        "import os\n",
        "import numpy as np\n",
        "import matplotlib.pyplot as plt"
      ]
    },
    {
      "attachments": {},
      "cell_type": "markdown",
      "metadata": {
        "id": "O-Npm7TFMrFs"
      },
      "source": [
        "# Getting the dataset"
      ]
    },
    {
      "cell_type": "code",
      "execution_count": 5,
      "metadata": {
        "id": "jaF8r6aOl48C"
      },
      "outputs": [
        {
          "name": "stdout",
          "output_type": "stream",
          "text": [
            " \n"
          ]
        }
      ],
      "source": [
        "import sys\n",
        "\n",
        "# Only for Colab\n",
        "if 'google.colab' in sys.modules:\n",
        "    !wget https://github.com/valenlopez993/Cats_Dogs_Classifier/raw/main/cats_and_dogs.zip\n",
        "    !unzip cats_and_dogs.zip\n",
        "\n",
        "# For a local machine\n",
        "else:\n",
        "  import subprocess\n",
        "\n",
        "  def runCommand(command, verbose=True):\n",
        "      process = subprocess.run(command, stdout = subprocess.PIPE, stderr = subprocess.PIPE, text = True, shell = True)\n",
        "      std_out, std_err = process.stdout, process.stderr\n",
        "      if verbose:\n",
        "          print(std_out.strip(), std_err)\n",
        "\n",
        "  files = os.listdir()\n",
        "  if not ('cats_and_dogs.zip' in files):\n",
        "    runCommand('wget \"https://github.com/valenlopez993/Cats_Dogs_Classifier/raw/main/cats_and_dogs.zip\"')\n",
        "  if not ('cats_and_dogs' in files):\n",
        "    runCommand('tar -xf cats_and_dogs.zip')"
      ]
    },
    {
      "attachments": {},
      "cell_type": "markdown",
      "metadata": {
        "id": "atv7vwulMrF7"
      },
      "source": [
        "# A plot function to visuzlize the data"
      ]
    },
    {
      "cell_type": "code",
      "execution_count": null,
      "metadata": {
        "id": "TP0WA8j1mt7Q"
      },
      "outputs": [],
      "source": [
        "def plotImages(images_arr, probabilities = False):\n",
        "    fig, axes = plt.subplots(1, len(images_arr), figsize=(len(images_arr) * 3, 5))\n",
        "    if probabilities is False:\n",
        "      for img, ax in zip( images_arr, axes):\n",
        "          ax.imshow(img)\n",
        "          ax.axis('off')\n",
        "    else:\n",
        "      for img, probability, ax in zip( images_arr, probabilities, axes):\n",
        "          ax.imshow(img)\n",
        "          ax.axis('off')\n",
        "          if probability > 0.5:\n",
        "              ax.set_title(\"%.2f\" % (probability*100) + \"% dog\")\n",
        "          else:\n",
        "              ax.set_title(\"%.2f\" % ((1-probability)*100) + \"% cat\")\n",
        "    plt.show()"
      ]
    },
    {
      "attachments": {},
      "cell_type": "markdown",
      "metadata": {
        "id": "U4QptOABMrF3"
      },
      "source": [
        "# Preparing the data"
      ]
    },
    {
      "cell_type": "code",
      "execution_count": null,
      "metadata": {
        "id": "fPSWumJDMrF3"
      },
      "outputs": [],
      "source": [
        "PATH = 'cats_and_dogs'\n",
        "\n",
        "train_dir = os.path.join(PATH, 'train')\n",
        "validation_dir = os.path.join(PATH, 'validation')\n",
        "test_dir = os.path.join(PATH, 'test')\n",
        "\n",
        "# Get number of files in each directory. The train and validation directories\n",
        "# each have the subdirecories \"dogs\" and \"cats\".\n",
        "total_train = sum([len(files) for r, d, files in os.walk(train_dir)])\n",
        "total_val = sum([len(files) for r, d, files in os.walk(validation_dir)])\n",
        "total_test = len(os.listdir(test_dir))\n",
        "\n",
        "# Variables for pre-processing and training.\n",
        "batch_size = 128\n",
        "epochs = 20\n",
        "IMG_HEIGHT = 150\n",
        "IMG_WIDTH = 150"
      ]
    },
    {
      "cell_type": "code",
      "execution_count": null,
      "metadata": {
        "colab": {
          "base_uri": "https://localhost:8080/"
        },
        "id": "EOJFeEfumns6",
        "outputId": "b3071245-54db-467d-c81e-cfbfd5e7c532"
      },
      "outputs": [],
      "source": [
        "train_image_generator = ImageDataGenerator(rescale=1/255.0)\n",
        "validation_image_generator = ImageDataGenerator(rescale=1/255.0)\n",
        "test_image_generator = ImageDataGenerator(rescale=1/255.0)\n",
        "\n",
        "train_data_gen = train_image_generator.flow_from_directory(train_dir, target_size=(IMG_HEIGHT, IMG_WIDTH), color_mode='rgb', batch_size=batch_size, shuffle=True, class_mode='binary')\n",
        "val_data_gen = train_image_generator.flow_from_directory(validation_dir, target_size=(IMG_HEIGHT, IMG_WIDTH), color_mode='rgb', batch_size=batch_size, shuffle=True, class_mode='binary')\n",
        "test_data_gen = train_image_generator.flow_from_directory(test_dir, target_size=(IMG_HEIGHT, IMG_WIDTH), color_mode='rgb', batch_size=1, class_mode=None, shuffle=False)"
      ]
    },
    {
      "cell_type": "markdown",
      "metadata": {
        "id": "86IPug0gbQ4d"
      },
      "source": [
        "### Visualize 5 images from the data"
      ]
    },
    {
      "cell_type": "code",
      "execution_count": null,
      "metadata": {
        "colab": {
          "base_uri": "https://localhost:8080/",
          "height": 237
        },
        "id": "cUz6hu2oaj_b",
        "outputId": "857376c6-67d8-439c-b322-ef3d0b342f2f"
      },
      "outputs": [],
      "source": [
        "sample_training_images, sample_training_labels = next(train_data_gen)\n",
        "plotImages(sample_training_images[:5])"
      ]
    },
    {
      "cell_type": "markdown",
      "metadata": {
        "id": "P-6P60vaMrF9"
      },
      "source": [
        "## Data augmentation for training"
      ]
    },
    {
      "cell_type": "code",
      "execution_count": null,
      "metadata": {
        "colab": {
          "base_uri": "https://localhost:8080/"
        },
        "id": "-32RRLY_3voj",
        "outputId": "1a869966-9889-403f-894e-d5fffc4f6100"
      },
      "outputs": [],
      "source": [
        "train_image_generator = ImageDataGenerator( rescale=1/255.0,\n",
        "                                            rotation_range=40,\n",
        "                                            horizontal_flip=True,\n",
        "                                            vertical_flip=True,\n",
        "                                            shear_range=0.2,\n",
        "                                            zoom_range=0.2,\n",
        "                                            width_shift_range=0.2,\n",
        "                                            height_shift_range=0.2)\n",
        "\n",
        "train_data_gen = train_image_generator.flow_from_directory(train_dir, \n",
        "                                                           target_size=(IMG_HEIGHT, IMG_WIDTH),\n",
        "                                                           color_mode='rgb', \n",
        "                                                           batch_size=batch_size, \n",
        "                                                           class_mode='binary',\n",
        "                                                           seed=42)"
      ]
    },
    {
      "attachments": {},
      "cell_type": "markdown",
      "metadata": {
        "id": "uDlq7UT-3gPm"
      },
      "source": [
        "### Visualize 1 images after augmentation"
      ]
    },
    {
      "cell_type": "code",
      "execution_count": null,
      "metadata": {
        "colab": {
          "base_uri": "https://localhost:8080/",
          "height": 254
        },
        "id": "pkwq2LFvqabS",
        "outputId": "1f7e2871-f762-46fa-a036-fb1ce2b90388"
      },
      "outputs": [],
      "source": [
        "augmented_images = [train_data_gen[0][0][0] for i in range(5)]\n",
        "plotImages(augmented_images)"
      ]
    },
    {
      "attachments": {},
      "cell_type": "markdown",
      "metadata": {
        "id": "tcmqmtrKbIk3"
      },
      "source": [
        "# The Model"
      ]
    },
    {
      "cell_type": "code",
      "execution_count": null,
      "metadata": {
        "id": "k8aZkwMam4UY"
      },
      "outputs": [],
      "source": [
        "model = Sequential()\n",
        "model.add(Conv2D(32, (3, 3), activation='relu', input_shape=(IMG_HEIGHT, IMG_WIDTH, 3)))\n",
        "model.add(MaxPool2D((2, 2)))\n",
        "model.add(Conv2D(64, (3, 3), activation='relu'))\n",
        "model.add(MaxPool2D((2, 2)))\n",
        "model.add(Conv2D(128, (3, 3), activation='relu'))\n",
        "model.add(MaxPool2D((2, 2)))\n",
        "\n",
        "model.add(Dropout(0.4))\n",
        "model.add(Flatten())\n",
        "model.add(Dense(300, activation='relu'))\n",
        "model.add(Dense(300, activation='relu'))\n",
        "model.add(Dense(1, activation='sigmoid'))\n",
        "\n",
        "model.compile(optimizer='adam',\n",
        "              loss='binary_crossentropy', \n",
        "              metrics=['accuracy'])"
      ]
    },
    {
      "cell_type": "code",
      "execution_count": null,
      "metadata": {
        "id": "xdKSjxg6rb3q"
      },
      "outputs": [],
      "source": [
        "model.summary()"
      ]
    },
    {
      "attachments": {},
      "cell_type": "markdown",
      "metadata": {
        "id": "cmTJ5xX6bxRQ"
      },
      "source": [
        "## Training the model"
      ]
    },
    {
      "cell_type": "code",
      "execution_count": null,
      "metadata": {
        "colab": {
          "base_uri": "https://localhost:8080/"
        },
        "id": "1niQDz5x6K7y",
        "outputId": "6ebd2e05-78ce-43d3-ca38-dc312ba6fa3a"
      },
      "outputs": [],
      "source": [
        "STEP_TRAIN = train_data_gen.__len__()\n",
        "STEP_VALIDATION = val_data_gen.__len__()\n",
        "history = model.fit(train_data_gen, \n",
        "                    validation_data=val_data_gen,\n",
        "                    validation_steps=STEP_VALIDATION,\n",
        "                    epochs=epochs,\n",
        "                    steps_per_epoch=STEP_TRAIN) "
      ]
    },
    {
      "attachments": {},
      "cell_type": "markdown",
      "metadata": {
        "id": "lqDpXV_vbpD6"
      },
      "source": [
        "## Performance of the model"
      ]
    },
    {
      "cell_type": "code",
      "execution_count": null,
      "metadata": {
        "colab": {
          "base_uri": "https://localhost:8080/",
          "height": 699
        },
        "id": "5xS51mB56OAC",
        "outputId": "160a77b1-63f9-4a9a-9a73-5b5f4b25c378"
      },
      "outputs": [],
      "source": [
        "acc = history.history['accuracy']\n",
        "val_acc = history.history['val_accuracy']\n",
        "\n",
        "loss = history.history['loss']\n",
        "val_loss = history.history['val_loss']\n",
        "\n",
        "epochs_range = range(epochs)\n",
        "\n",
        "plt.figure(figsize=(8, 8))\n",
        "plt.subplot(1, 2, 1)\n",
        "plt.plot(epochs_range, acc, label='Training Accuracy')\n",
        "plt.plot(epochs_range, val_acc, label='Validation Accuracy')\n",
        "plt.legend(loc='lower right')\n",
        "plt.title('Training and Validation Accuracy')\n",
        "\n",
        "plt.subplot(1, 2, 2)\n",
        "plt.plot(epochs_range, loss, label='Training Loss')\n",
        "plt.plot(epochs_range, val_loss, label='Validation Loss')\n",
        "plt.legend(loc='upper right')\n",
        "plt.title('Training and Validation Loss')\n",
        "plt.show()"
      ]
    },
    {
      "cell_type": "markdown",
      "metadata": {
        "id": "h6bSi60Lb7Xq"
      },
      "source": [
        "## Performing predictions"
      ]
    },
    {
      "cell_type": "code",
      "execution_count": null,
      "metadata": {
        "colab": {
          "base_uri": "https://localhost:8080/"
        },
        "id": "0VVmQRgVmGTc",
        "outputId": "be819fd5-a5b4-4a47-c7c5-349e4eda6b17"
      },
      "outputs": [],
      "source": [
        "prediction = model.predict(test_data_gen)"
      ]
    },
    {
      "cell_type": "code",
      "execution_count": null,
      "metadata": {
        "colab": {
          "base_uri": "https://localhost:8080/",
          "height": 176
        },
        "id": "Uqb3wmPMUBc9",
        "outputId": "57ab2d4a-68a5-43f6-f6ed-e6f78976fac5"
      },
      "outputs": [],
      "source": [
        "probabilities = []\n",
        "test_images = []\n",
        "\n",
        "for result, test_data in zip(prediction, test_data_gen):\n",
        "  probabilities.append(result[np.argmax(result)])\n",
        "  test_images.append(test_data.reshape(IMG_HEIGHT, IMG_WIDTH, 3))\n",
        "\n",
        "images2show = 8\n",
        "plotImages(test_images[:images2show], probabilities[:images2show])\n"
      ]
    },
    {
      "cell_type": "markdown",
      "metadata": {
        "id": "q943hn5-cG6N"
      },
      "source": [
        "# Final Testing"
      ]
    },
    {
      "cell_type": "code",
      "execution_count": null,
      "metadata": {
        "colab": {
          "base_uri": "https://localhost:8080/"
        },
        "id": "4IH86Ux_u7TZ",
        "outputId": "20d1cc7b-6cf0-4615-8cbd-f99bac60e19d"
      },
      "outputs": [],
      "source": [
        "answers =  [1, 0, 0, 1, 0, 0, 0, 0, 1, 1, 0,\n",
        "            1, 0, 1, 0, 1, 1, 0, 1, 1, 0, 0,\n",
        "            1, 1, 1, 1, 1, 0, 0, 0, 0, 0, 1,\n",
        "            1, 0, 1, 1, 1, 1, 0, 1, 0, 1, 1, \n",
        "            0, 0, 0, 0, 0, 0]\n",
        "\n",
        "correct = 0\n",
        "\n",
        "for probability, answer in zip(probabilities, answers):\n",
        "  if round(probability) == answer:\n",
        "    correct +=1\n",
        "\n",
        "percentage_identified = (correct / len(answers)) * 100\n",
        "\n",
        "print(f\"The model correctly identified {round(percentage_identified, 2)}% of the images of cats and dogs.\")"
      ]
    }
  ],
  "metadata": {
    "accelerator": "GPU",
    "colab": {
      "collapsed_sections": [
        "86IPug0gbQ4d",
        "uDlq7UT-3gPm"
      ],
      "include_colab_link": true,
      "provenance": []
    },
    "gpuClass": "standard",
    "kernelspec": {
      "display_name": "Python 3",
      "name": "python3"
    },
    "language_info": {
      "codemirror_mode": {
        "name": "ipython",
        "version": 3
      },
      "file_extension": ".py",
      "mimetype": "text/x-python",
      "name": "python",
      "nbconvert_exporter": "python",
      "pygments_lexer": "ipython3",
      "version": "3.8.10"
    }
  },
  "nbformat": 4,
  "nbformat_minor": 0
}
